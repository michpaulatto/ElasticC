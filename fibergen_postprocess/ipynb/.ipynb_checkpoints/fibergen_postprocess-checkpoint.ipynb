{
 "cells": [
  {
   "cell_type": "code",
   "execution_count": 1,
   "metadata": {},
   "outputs": [],
   "source": [
    "import os\n",
    "import sys\n",
    "module_path = os.path.abspath(os.path.join('..'))\n",
    "# Import my own elasticity matrix manipulation functions\n",
    "if module_path not in sys.path:\n",
    "    sys.path.append('../lib')    \n",
    "import elastic_functions as ef\n"
   ]
  },
  {
   "cell_type": "code",
   "execution_count": 2,
   "metadata": {},
   "outputs": [
    {
     "name": "stdout",
     "output_type": "stream",
     "text": [
      "[[ 9.0378e+01  4.2758e+01  4.2075e+01 -8.7057e-02  1.0175e+00 -3.7201e-01]\n",
      " [ 4.2758e+01  8.9179e+01  4.1710e+01  5.0762e-01 -2.5696e-01 -8.8776e-02]\n",
      " [ 4.2076e+01  4.1709e+01  8.6399e+01  6.5560e-01  1.2445e+00  6.8897e-02]\n",
      " [-8.7483e-02  5.0768e-01  6.5536e-01  2.0629e+01  3.5864e-02  3.0554e-01]\n",
      " [ 1.0178e+00 -2.5691e-01  1.2447e+00  3.5863e-02  2.1855e+01  2.9340e-01]\n",
      " [-3.7217e-01 -8.9323e-02  6.8755e-02  3.0561e-01  2.9376e-01  2.2366e+01]]\n",
      "(6, 6)\n"
     ]
    }
   ],
   "source": [
    "import numpy as np\n",
    "filename='../../fibergen_run/ks_512_sat.out'\n",
    "\n",
    "Ctext=[]\n",
    "with open(filename, 'r') as f:\n",
    "    for line in f:\n",
    "        if 'Effective stiffness matrix' in line:   \n",
    "            count=1\n",
    "            for line in f: # now you are at the lines you want\n",
    "                if count<=6:\n",
    "                    Ctext.append(line.split())\n",
    "                    count+=1            \n",
    "#print(Ctext)\n",
    "C = np.array(Ctext,dtype='f4')\n",
    "print(C)\n",
    "print(C.shape)\n"
   ]
  },
  {
   "cell_type": "code",
   "execution_count": 23,
   "metadata": {},
   "outputs": [
    {
     "name": "stdout",
     "output_type": "stream",
     "text": [
      "14.9093\n",
      "0.001\n",
      "14.909966666666667\n",
      "[[1.49113e+01 1.49093e+01 1.49093e+01 0.00000e+00 0.00000e+00 0.00000e+00]\n",
      " [1.49093e+01 1.49113e+01 1.49093e+01 0.00000e+00 0.00000e+00 0.00000e+00]\n",
      " [1.49093e+01 1.49093e+01 1.49113e+01 0.00000e+00 0.00000e+00 0.00000e+00]\n",
      " [0.00000e+00 0.00000e+00 0.00000e+00 1.00000e-03 0.00000e+00 0.00000e+00]\n",
      " [0.00000e+00 0.00000e+00 0.00000e+00 0.00000e+00 1.00000e-03 0.00000e+00]\n",
      " [0.00000e+00 0.00000e+00 0.00000e+00 0.00000e+00 0.00000e+00 1.00000e-03]]\n"
     ]
    }
   ],
   "source": [
    "# basalt\n",
    "import re      \n",
    "\n",
    "def isoC(c11,c44):\n",
    "    c12=c11-2*c44\n",
    "    C = np.array(\n",
    "    ((c11, c12, c12, 0, 0, 0),\n",
    "     (c12, c11, c12, 0, 0, 0),\n",
    "     (c12, c12, c11, 0, 0, 0),\n",
    "     (0, 0, 0, c44, 0, 0),\n",
    "     (0, 0, 0, 0, c44, 0),\n",
    "     (0, 0, 0, 0, 0, c44)))\n",
    "    return C\n",
    "\n",
    "#----------------\n",
    "           \n",
    "with open(filename, 'r') as f:\n",
    "    for line in f:\n",
    "        if '- matrix: linear isotropic lambda=' in line:  \n",
    "            la = line.split()[4]\n",
    "            mu = line.split()[5]\n",
    "\n",
    "lab=float(re.sub(\"[^0-9.]\", \"\", la))\n",
    "mub=float(re.sub(\"[^0-9.]\", \"\", mu))\n",
    "Kb=lab+2/3*mub\n",
    "\n",
    "print(lab)\n",
    "print(mub)\n",
    "print(Kb)\n",
    "\n",
    "cb44=mub\n",
    "cb11=lab+2*mub\n",
    "\n",
    "Cbasalt = isoC(cb11,cb44)\n",
    "print(Cbasalt)\n",
    "rob = 2.7\n",
    "\n"
   ]
  },
  {
   "cell_type": "code",
   "execution_count": 24,
   "metadata": {},
   "outputs": [
    {
     "name": "stdout",
     "output_type": "stream",
     "text": [
      "56.3067\n",
      "39.86\n",
      "82.88003333333333\n",
      "[[136.0267  56.3067  56.3067   0.       0.       0.    ]\n",
      " [ 56.3067 136.0267  56.3067   0.       0.       0.    ]\n",
      " [ 56.3067  56.3067 136.0267   0.       0.       0.    ]\n",
      " [  0.       0.       0.      39.86     0.       0.    ]\n",
      " [  0.       0.       0.       0.      39.86     0.    ]\n",
      " [  0.       0.       0.       0.       0.      39.86  ]]\n"
     ]
    }
   ],
   "source": [
    "# Gabbro\n",
    "with open(filename, 'r') as f:\n",
    "    for line in f:\n",
    "        if '- crystals: linear isotropic lambda=' in line:  \n",
    "            la = line.split()[4]\n",
    "            mu = line.split()[5]\n",
    "\n",
    "lag=float(re.sub(\"[^0-9.]\", \"\", la))\n",
    "mug=float(re.sub(\"[^0-9.]\", \"\", mu))\n",
    "Kg=lag+2/3*mug\n",
    "\n",
    "print(lag)\n",
    "print(mug)\n",
    "print(Kg)\n",
    "\n",
    "cg44=mug\n",
    "cg11=lag+2*mug\n",
    "\n",
    "Cgabbro = isoC(cg11,cg44)\n",
    "print(Cgabbro)\n",
    "rog = 2.84\n"
   ]
  },
  {
   "cell_type": "code",
   "execution_count": 29,
   "metadata": {},
   "outputs": [
    {
     "name": "stdout",
     "output_type": "stream",
     "text": [
      "2.720034\n"
     ]
    }
   ],
   "source": [
    "ijkl = np.reshape([0,5,4,5,1,3,4,3,2],[3,3])\n",
    "\n",
    "#matrix volume fraction: 0.1431 interface volume fraction: 0\n",
    "#crystals volume fraction: 0.8569 interface volume fraction: 0\n",
    "fg = 0.1431\n",
    "fb = 1-fg\n",
    "# density of mixture\n",
    "roe = fb*rob+fg*rog\n",
    "print(roe)\n",
    "\n",
    "\n",
    "[bulkh,shearh,vpxh,vs1xh,vs2xh,vpyh,vs1yh,vs2yh,vpzh,vs1zh,vs2zh] = ef.xyzv(C,roe,ijkl)\n"
   ]
  },
  {
   "cell_type": "code",
   "execution_count": 30,
   "metadata": {},
   "outputs": [
    {
     "name": "stdout",
     "output_type": "stream",
     "text": [
      "59.83017122425902 21.61047194840266 5.72590495451424 2.867523504333777 2.7539237950023416 5.6359508469254065 2.834576840900495 2.7539237950023416 5.764268378694298 2.867523504333777 2.834576840900495\n"
     ]
    }
   ],
   "source": [
    "print(bulkh,shearh,vpxh,vs1xh,vs2xh,vpyh,vs1yh,vs2yh,vpzh,vs1zh,vs2zh)\n"
   ]
  },
  {
   "cell_type": "code",
   "execution_count": 32,
   "metadata": {},
   "outputs": [
    {
     "name": "stdout",
     "output_type": "stream",
     "text": [
      "57.67 22.26 42.83\n"
     ]
    }
   ],
   "source": [
    "\n",
    "with open(filename, 'r') as f:\n",
    "    for line in f:\n",
    "        if 'K_eff' in line:  \n",
    "            Keff = float(line.split()[2])\n",
    "        if 'mu_eff' in line:  \n",
    "            mueff = float(line.split()[2])\n",
    "        if 'lambda_eff' in line:  \n",
    "            laeff = float(line.split()[2])\n",
    "\n",
    "\n",
    "print(Keff,mueff,laeff)\n"
   ]
  },
  {
   "cell_type": "code",
   "execution_count": 35,
   "metadata": {},
   "outputs": [],
   "source": [
    "sys.path.append('../../../ElasticC')\n",
    "import elasticc as el\n",
    "\n",
    "# Initialize volume fractions (melt fraction from 0 to 1)\n",
    "dc = 1e-2\n",
    "nc = int(1./dc-1)\n",
    "cb = np.linspace(dc,dc*nc,nc)\n",
    "cg = 1-cb\n",
    "\n",
    "# Calculate density of composite as function of melt fraction\n",
    "roe = el.limits.Voigt(rog,cg,rob,cb)\n",
    "\n",
    "Gb=mub\n",
    "Gg=mug\n"
   ]
  },
  {
   "cell_type": "code",
   "execution_count": null,
   "metadata": {},
   "outputs": [],
   "source": [
    "# Reuss bounds\n",
    "Kr = el.limits.Reuss(Kg,cg,Kb,cb)\n",
    "Gr = el.limits.Reuss(Kg,cg,Kb,cb)\n",
    "Vpr = np.sqrt((Kr+4.0/3.0*Gr)/roe)\n",
    "Vsr = np.sqrt(Gr/roe)\n",
    "\n",
    "# Voight\n",
    "Kv = el.limits.Voigt(Kg,cg,Kb,cb)\n",
    "Gv = el.limits.Voigt(Kg,cg,Kb,cb)\n",
    "Vpv = np.sqrt((Kv+4.0/3.0*Gv)/roe)\n",
    "Vsv = np.sqrt(Gv/roe)\n",
    "\n",
    "# Hashin-Shtrikman\n",
    "Khs1,Ghs1 = el.limits.hs_bounds(Kg,Kb,Gg,Gb,cg,cb)\n",
    "Khs2,Ghs2 = el.limits.hs_bounds(Kb,Kg,Gb,Gg,cb,cg)\n",
    "Vphs1 = np.sqrt((Khs1+4.0/3.0*Ghs1)/roe)\n",
    "Vshs1 = np.sqrt(Ghs1/roe)\n",
    "Vphs2 = np.sqrt((Khs2+4.0/3.0*Ghs2)/roe)\n",
    "Vshs2 = np.sqrt(Ghs2/roe)"
   ]
  },
  {
   "cell_type": "code",
   "execution_count": 39,
   "metadata": {},
   "outputs": [
    {
     "ename": "NameError",
     "evalue": "name 'Khs1' is not defined",
     "output_type": "error",
     "traceback": [
      "\u001b[0;31m---------------------------------------------------------------------------\u001b[0m",
      "\u001b[0;31mNameError\u001b[0m                                 Traceback (most recent call last)",
      "\u001b[0;32m<ipython-input-39-fa0fe9cb5625>\u001b[0m in \u001b[0;36m<module>\u001b[0;34m\u001b[0m\n\u001b[1;32m     26\u001b[0m \u001b[0mplt\u001b[0m\u001b[0;34m.\u001b[0m\u001b[0mxlim\u001b[0m\u001b[0;34m(\u001b[0m\u001b[0mpmin\u001b[0m\u001b[0;34m,\u001b[0m\u001b[0mpmax\u001b[0m\u001b[0;34m)\u001b[0m\u001b[0;34m\u001b[0m\u001b[0;34m\u001b[0m\u001b[0m\n\u001b[1;32m     27\u001b[0m \u001b[0mplt\u001b[0m\u001b[0;34m.\u001b[0m\u001b[0mylim\u001b[0m\u001b[0;34m(\u001b[0m\u001b[0;36m0\u001b[0m\u001b[0;34m,\u001b[0m\u001b[0;36m90\u001b[0m\u001b[0;34m)\u001b[0m\u001b[0;34m\u001b[0m\u001b[0;34m\u001b[0m\u001b[0m\n\u001b[0;32m---> 28\u001b[0;31m \u001b[0mplt\u001b[0m\u001b[0;34m.\u001b[0m\u001b[0mplot\u001b[0m\u001b[0;34m(\u001b[0m\u001b[0mcb\u001b[0m\u001b[0;34m,\u001b[0m\u001b[0mKhs1\u001b[0m\u001b[0;34m,\u001b[0m\u001b[0mlw\u001b[0m\u001b[0;34m=\u001b[0m\u001b[0;34m'1'\u001b[0m\u001b[0;34m,\u001b[0m\u001b[0mc\u001b[0m\u001b[0;34m=\u001b[0m\u001b[0;34m'r'\u001b[0m\u001b[0;34m)\u001b[0m\u001b[0;34m\u001b[0m\u001b[0;34m\u001b[0m\u001b[0m\n\u001b[0m\u001b[1;32m     29\u001b[0m \u001b[0mplt\u001b[0m\u001b[0;34m.\u001b[0m\u001b[0mplot\u001b[0m\u001b[0;34m(\u001b[0m\u001b[0mcb\u001b[0m\u001b[0;34m,\u001b[0m\u001b[0mKhs2\u001b[0m\u001b[0;34m,\u001b[0m\u001b[0mlw\u001b[0m\u001b[0;34m=\u001b[0m\u001b[0;34m'1'\u001b[0m\u001b[0;34m,\u001b[0m\u001b[0mc\u001b[0m\u001b[0;34m=\u001b[0m\u001b[0;34m'r'\u001b[0m\u001b[0;34m)\u001b[0m\u001b[0;34m\u001b[0m\u001b[0;34m\u001b[0m\u001b[0m\n\u001b[1;32m     30\u001b[0m \u001b[0mplt\u001b[0m\u001b[0;34m.\u001b[0m\u001b[0mplot\u001b[0m\u001b[0;34m(\u001b[0m\u001b[0mcb\u001b[0m\u001b[0;34m,\u001b[0m\u001b[0mGhs1\u001b[0m\u001b[0;34m,\u001b[0m\u001b[0mlw\u001b[0m\u001b[0;34m=\u001b[0m\u001b[0;34m'1'\u001b[0m\u001b[0;34m,\u001b[0m\u001b[0mc\u001b[0m\u001b[0;34m=\u001b[0m\u001b[0;34m'r'\u001b[0m\u001b[0;34m)\u001b[0m\u001b[0;34m\u001b[0m\u001b[0;34m\u001b[0m\u001b[0m\n",
      "\u001b[0;31mNameError\u001b[0m: name 'Khs1' is not defined"
     ]
    },
    {
     "data": {
      "image/png": "[encoded data removed]",
      "text/plain": [
       "<Figure size 432x288 with 1 Axes>"
      ]
     },
     "metadata": {
      "needs_background": "light"
     },
     "output_type": "display_data"
    }
   ],
   "source": [
    "import matplotlib.pyplot as plt\n",
    "\n",
    "# Aspect ratio of two phases\n",
    "ab=1.0\n",
    "ag=1.0\n",
    "# Unrelaxed, high frequency limit\n",
    "b_Ku1,b_Gu1 = el.eep.mod_b(Kg,Kb,Gg,Gb,ag,ab,cg,cb)\n",
    "b_Vpu1=np.sqrt((b_Ku1+4.0/3.0*b_Gu1)/roe)\n",
    "b_Vsu1=np.sqrt(b_Gu1/roe)\n",
    "# Relaxed, low frequency limit\n",
    "# Calculate dry moduli first (void fill)\n",
    "K,G = el.eep.mod_b(Kg,0.0,Gg,0.0,ag,ab,cg,cb)\n",
    "# Then use Gassman's fluid substitution\n",
    "b_Kr1,b_Gr1 = el.eep.gassman_2(K,G,Kg,Gg,Kb,Gb,cb)\n",
    "b_Vpr1=np.sqrt((b_Kr1+4.0/3.0*b_Gr1)/roe)\n",
    "b_Vsr1=np.sqrt(b_Gr1/roe)\n",
    "\n",
    "pmin=0.0\n",
    "pmax=1.0\n",
    "fig = plt.figure()\n",
    "plt.xlabel('Melt fraction')\n",
    "plt.ylabel('M (GPa)')\n",
    "plt.xlim(pmin,pmax)\n",
    "plt.ylim(0,90)\n",
    "plt.plot(cb,Khs1,lw='1',c='r')\n",
    "plt.plot(cb,Khs2,lw='1',c='r')\n",
    "plt.plot(cb,Ghs1,lw='1',c='r')\n",
    "plt.plot(cb,Ghs2,lw='1',c='r')\n",
    "# Plot unrelaxed bulk modulus\n",
    "plt.plot(cb,b_Ku1,c='black',linewidth=1.5)\n",
    "# Plot relaxed bulk modulus - dashed\n",
    "plt.plot(cb,b_Kr1,c='black',linestyle='--',linewidth=1.5)\n",
    "# Plot unrelaxed shear modulus\n",
    "plt.plot(cb,b_Gu1,c='black',linewidth=1.5)\n",
    "# Plot relaxed shear modulus - dashed\n",
    "plt.plot(cb,b_Gr1,c='black',linestyle='--',linewidth=1.5)\n",
    "plt.show()"
   ]
  },
  {
   "cell_type": "code",
   "execution_count": 33,
   "metadata": {},
   "outputs": [],
   "source": []
  }
 ],
 "metadata": {
  "kernelspec": {
   "display_name": "Python 3.8 (jif3d)",
   "language": "python",
   "name": "python38_jif3d"
  },
  "language_info": {
   "codemirror_mode": {
    "name": "ipython",
    "version": 3
   },
   "file_extension": ".py",
   "mimetype": "text/x-python",
   "name": "python",
   "nbconvert_exporter": "python",
   "pygments_lexer": "ipython3",
   "version": "3.8.5"
  }
 },
 "nbformat": 4,
 "nbformat_minor": 4
}
